{
 "cells": [
  {
   "cell_type": "markdown",
   "metadata": {},
   "source": [
    "# Initialize\n",
    "## Getting Data\n",
    "### Load data using pandas"
   ]
  },
  {
   "cell_type": "code",
   "execution_count": null,
   "metadata": {},
   "outputs": [],
   "source": [
    "# Importing data using pandas\n",
    "import pandas as pd\n",
    "\n",
    "data = pd.read_csv('c:/path_to_data/file.csv')"
   ]
  },
  {
   "cell_type": "markdown",
   "metadata": {},
   "source": [
    "### Loading data from PyCaret’s repository"
   ]
  },
  {
   "cell_type": "code",
   "execution_count": null,
   "metadata": {},
   "outputs": [],
   "source": [
    "# Loading data from pycaret\n",
    "from pycaret.datasets import get_data\n",
    "\n",
    "data = get_data('juice') "
   ]
  },
  {
   "cell_type": "markdown",
   "metadata": {},
   "source": [
    "## Setting up Environment\n",
    "### Step 1: Importing a Module\n",
    "```python\n",
    "from pycaret.classification import *\n",
    "from pycaret.regression import *\n",
    "from pycaret.clustering import *\n",
    "from pycaret.anomaly import *\n",
    "from pycaret.nlp import *\n",
    "from pycaret.arules import *\n",
    "```"
   ]
  },
  {
   "cell_type": "markdown",
   "metadata": {},
   "source": [
    "### Step 2: Initializing the setup\n",
    "- Data Type Inference\n",
    "- Data Cleaning and Preparation\n",
    "- Data Sampling\n",
    "- Train Test Split\n",
    "- Assigning Session ID as Seed"
   ]
  },
  {
   "cell_type": "markdown",
   "metadata": {},
   "source": [
    "#### Classification Example"
   ]
  },
  {
   "cell_type": "code",
   "execution_count": null,
   "metadata": {},
   "outputs": [],
   "source": [
    "# Importing dataset\n",
    "from pycaret.datasets import get_data\n",
    "\n",
    "diabetes = get_data('diabetes')\n",
    "\n",
    "# Importing module and initializing setup\n",
    "from pycaret.classification import *\n",
    "\n",
    "clf1 = setup(data = diabetes, target = 'Class variable')"
   ]
  },
  {
   "cell_type": "markdown",
   "metadata": {},
   "source": [
    "#### Regression Example"
   ]
  },
  {
   "cell_type": "code",
   "execution_count": null,
   "metadata": {},
   "outputs": [],
   "source": [
    "# Importing dataset\n",
    "from pycaret.datasets import get_data\n",
    "\n",
    "boston = get_data('boston')\n",
    "\n",
    "# Importing module and initializing setup\n",
    "from pycaret.regression import *\n",
    "\n",
    "reg1 = setup(data = boston, target = 'medv')"
   ]
  },
  {
   "cell_type": "markdown",
   "metadata": {},
   "source": [
    "#### Clustering Example"
   ]
  },
  {
   "cell_type": "code",
   "execution_count": null,
   "metadata": {},
   "outputs": [],
   "source": [
    "# Importing dataset\n",
    "from pycaret.datasets import get_data\n",
    "\n",
    "jewellery = get_data('jewellery')\n",
    "\n",
    "# Importing module and initializing setup\n",
    "from pycaret.clustering import * \n",
    "\n",
    "clu1 = setup(data = jewellery)"
   ]
  },
  {
   "cell_type": "markdown",
   "metadata": {},
   "source": [
    "#### Anomaly Detection Example"
   ]
  },
  {
   "cell_type": "code",
   "execution_count": null,
   "metadata": {},
   "outputs": [],
   "source": [
    "# Importing dataset\n",
    "from pycaret.datasets import get_data\n",
    "\n",
    "anomalies = get_data('anomaly')\n",
    "\n",
    "# Importing module and initializing setup\n",
    "from pycaret.anomaly import *\n",
    "\n",
    "ano1 = setup(data = anomalies)"
   ]
  },
  {
   "cell_type": "markdown",
   "metadata": {},
   "source": [
    "#### Natural Language Processing Example"
   ]
  },
  {
   "cell_type": "code",
   "execution_count": null,
   "metadata": {},
   "outputs": [],
   "source": [
    "# Importing dataset\n",
    "from pycaret.datasets import get_data\n",
    "\n",
    "kiva = get_data('kiva')\n",
    "\n",
    "# Importing module and initializing setup\n",
    "from pycaret.nlp import *\n",
    "\n",
    "nlp1 = setup(data = kiva, target = 'en')"
   ]
  },
  {
   "cell_type": "markdown",
   "metadata": {},
   "source": [
    "#### Association Rule Mining Example"
   ]
  },
  {
   "cell_type": "code",
   "execution_count": null,
   "metadata": {},
   "outputs": [],
   "source": [
    "# Importing dataset\n",
    "from pycaret.datasets import get_data\n",
    "\n",
    "france = get_data('france')\n",
    "\n",
    "# Importing module and initializing setup\n",
    "from pycaret.arules import *\n",
    "\n",
    "arules1 = setup(data = france, transaction_id = 'InvoiceNo', item_id = 'Description')"
   ]
  },
  {
   "cell_type": "markdown",
   "metadata": {},
   "source": [
    "# Model Training\n",
    "## Compare Models\n",
    "- **Classification:** Accuracy, AUC, Recall, Precision, F1, Kappa\n",
    "- **Regression:** MAE, MSE, RMSE, R2, RMSLE, MAPE\n",
    "\n",
    "\n",
    "\n",
    "### Classification Example"
   ]
  },
  {
   "cell_type": "code",
   "execution_count": null,
   "metadata": {},
   "outputs": [],
   "source": [
    "# Importing dataset\n",
    "from pycaret.datasets import get_data\n",
    "\n",
    "diabetes = get_data('diabetes')\n",
    "\n",
    "# Importing module and initializing setup\n",
    "from pycaret.classification import *\n",
    "\n",
    "clf1 = setup(data = diabetes, target = 'Class variable')\n",
    "\n",
    "# comparing all models\n",
    "compare_models()"
   ]
  },
  {
   "cell_type": "markdown",
   "metadata": {},
   "source": [
    "### Regression Example"
   ]
  },
  {
   "cell_type": "code",
   "execution_count": null,
   "metadata": {},
   "outputs": [],
   "source": [
    "# Importing dataset\n",
    "from pycaret.datasets import get_data\n",
    "\n",
    "boston = get_data('boston')\n",
    "\n",
    "# Importing module and initializing setup\n",
    "from pycaret.regression import *\n",
    "\n",
    "reg1 = setup(data = boston, target = 'medv')\n",
    "\n",
    "# comparing all models\n",
    "compare_models()"
   ]
  },
  {
   "cell_type": "markdown",
   "metadata": {},
   "source": [
    "## Create Model\n",
    "### Classification Example\n",
    "`Classification`\n",
    "\n",
    "|  Estimator   | Abbrev.String  |\n",
    "|  ----  | ----  |\n",
    "| Logistic Regression  | 'lr' |\n",
    "| K Nearest Neighbor  | 'knn' |\n",
    "| Naives Bayes  | 'nb' |\n",
    "| Decision Tree  | 'dt' |\n",
    "| SVM(Linear)  | 'svm' |\n",
    "| SVM(RBF)  | 'rbfsvm' |\n",
    "| Gaussian Process  | 'gpc' |\n",
    "| Multi Level Perceptron  | 'mlp' |\n",
    "| Ridge Classifier  | 'ridge' |\n",
    "| Random Forest  | 'rf' |\n",
    "| Quadratic Discriminant Analysis  | 'qda' |\n",
    "| AdaBoost  | 'ada' |\n",
    "| Gradient Boosting Classifier  | 'gbc' |\n",
    "| Linear Discriminant Analysis  | 'lda' |\n",
    "| Extra Trees Classifier  | 'et' |\n",
    "| Extreme Gradient Boosting  | 'xgboost' |\n",
    "| Light Gradient Boosting  | 'lightgbm' |\n",
    "| Cat Boost Classifier  | 'catboost' |"
   ]
  },
  {
   "cell_type": "code",
   "execution_count": null,
   "metadata": {},
   "outputs": [],
   "source": [
    "# Importing dataset\n",
    "from pycaret.datasets import get_data\n",
    "\n",
    "diabetes = get_data('diabetes')\n",
    "\n",
    "# Importing module and initializing setup\n",
    "from pycaret.classification import *\n",
    "\n",
    "clf1 = setup(data = diabetes, target = 'Class variable')\n",
    "\n",
    "# creating logistic regression model\n",
    "lr = create_model('lr')"
   ]
  },
  {
   "cell_type": "markdown",
   "metadata": {},
   "source": [
    "### Regression Example\n",
    "`Regression`\n",
    "\n",
    "|  Estimator   | Abbrev.String  |\n",
    "|  ----  | ----  |\n",
    "| Linear Regression  | 'lr' |\n",
    "| Lasso Regression | 'lasso'|"
   ]
  },
  {
   "cell_type": "code",
   "execution_count": null,
   "metadata": {},
   "outputs": [],
   "source": [
    "# Importing dataset\n",
    "from pycaret.datasets import get_data\n",
    "\n",
    "boston = get_data('boston')\n",
    "\n",
    "# Importing module and initializing setup\n",
    "from pycaret.regression import *\n",
    "\n",
    "reg1 = setup(data = boston, target = 'medv')\n",
    "\n",
    "# creating xgboost model\n",
    "xgboost = create_model('xgboost')"
   ]
  },
  {
   "cell_type": "markdown",
   "metadata": {},
   "source": [
    "### Clustering Example\n",
    "`Clustering`\n",
    "\n",
    "|  Estimator   | Abbrev.String  |\n",
    "|  ----  | ----  |\n",
    "|   | 'lr' |"
   ]
  },
  {
   "cell_type": "code",
   "execution_count": null,
   "metadata": {},
   "outputs": [],
   "source": []
  },
  {
   "cell_type": "markdown",
   "metadata": {},
   "source": [
    "### Anomaly Detection Example\n",
    "`Anomaly Detection`\n",
    "\n",
    "|  Estimator   | Abbrev.String  |\n",
    "|  ----  | ----  |\n",
    "|   | 'lr' |"
   ]
  },
  {
   "cell_type": "markdown",
   "metadata": {},
   "source": [
    "### Natural Language Processing Example\n",
    "`Natural Language Processing`\n",
    "\n",
    "|  Estimator   | Abbrev.String  |\n",
    "|  ----  | ----  |\n",
    "|   | 'lr' |"
   ]
  },
  {
   "cell_type": "code",
   "execution_count": null,
   "metadata": {},
   "outputs": [],
   "source": []
  },
  {
   "cell_type": "markdown",
   "metadata": {},
   "source": [
    "### Association Rule Example\n",
    "`Association Rule`\n",
    "\n",
    "|  Estimator   | Abbrev.String  |\n",
    "|  ----  | ----  |\n",
    "|   | 'lr' |"
   ]
  },
  {
   "cell_type": "markdown",
   "metadata": {},
   "source": [
    "## Tune Model\n",
    "### Classification Example"
   ]
  },
  {
   "cell_type": "code",
   "execution_count": null,
   "metadata": {},
   "outputs": [],
   "source": [
    "# Importing dataset\n",
    "from pycaret.datasets import get_data\n",
    "\n",
    "diabetes = get_data('diabetes')\n",
    "\n",
    "# Importing module and initializing setup\n",
    "from pycaret.classification import *\n",
    "\n",
    "clf1 = setup(data = diabetes, target = 'Class variable')\n",
    "\n",
    "# tuning LightGBM Model\n",
    "tuned_lightgbm = tune_model('lightgbm')"
   ]
  },
  {
   "cell_type": "markdown",
   "metadata": {},
   "source": [
    "### Regression Example"
   ]
  },
  {
   "cell_type": "code",
   "execution_count": null,
   "metadata": {},
   "outputs": [],
   "source": [
    "# Importing dataset\n",
    "from pycaret.datasets import get_data\n",
    "\n",
    "boston = get_data('boston')\n",
    "\n",
    "# Importing module and initializing setup\n",
    "from pycaret.regression import *\n",
    "\n",
    "reg1 = setup(data = boston, target = 'medv')\n",
    "\n",
    "# tuning Random Forest model\n",
    "tuned_rf = tune_model('rf', n_iter = 50, optimize = 'mae')"
   ]
  },
  {
   "cell_type": "markdown",
   "metadata": {},
   "source": [
    "### Clustering Example"
   ]
  },
  {
   "cell_type": "code",
   "execution_count": null,
   "metadata": {},
   "outputs": [],
   "source": [
    "# Importing dataset\n",
    "from pycaret.datasets import get_data\n",
    "\n",
    "diabetes = get_data('diabetes')\n",
    "\n",
    "# Importing module and initializing setup\n",
    "from pycaret.clustering import *\n",
    "\n",
    "clu1 = setup(data = diabetes)\n",
    "\n",
    "# Tuning K-Modes Model\n",
    "tuned_kmodes = tune_model('kmodes', supervised_target = 'Class variable')"
   ]
  },
  {
   "cell_type": "markdown",
   "metadata": {},
   "source": [
    "### Anomaly Detection Example"
   ]
  },
  {
   "cell_type": "code",
   "execution_count": null,
   "metadata": {},
   "outputs": [],
   "source": [
    "# Importing dataset\n",
    "from pycaret.datasets import get_data\n",
    "\n",
    "boston = get_data('boston')\n",
    "\n",
    "# Importing module and initializing setup\n",
    "from pycaret.anomaly import *\n",
    "\n",
    "ano1 = setup(data = boston)\n",
    "\n",
    "# Tuning Isolation Forest Model\n",
    "tuned_iforest = tune_model('iforest', supervised_target = 'medv')"
   ]
  },
  {
   "cell_type": "markdown",
   "metadata": {},
   "source": [
    "### Natural Language Processing Example"
   ]
  },
  {
   "cell_type": "code",
   "execution_count": null,
   "metadata": {},
   "outputs": [],
   "source": [
    "# Importing dataset\n",
    "from pycaret.datasets import get_data\n",
    "\n",
    "kiva = get_data('kiva')\n",
    "\n",
    "# Importing module and initializing setup\n",
    "from pycaret.nlp import *\n",
    "\n",
    "nlp1 = setup(data = kiva, target = 'en')\n",
    "\n",
    "# Tuning LDA Model\n",
    "tuned_lda = tune_model('lda', supervised_target = 'status')"
   ]
  },
  {
   "cell_type": "markdown",
   "metadata": {},
   "source": [
    "# Model Ensembling"
   ]
  },
  {
   "cell_type": "code",
   "execution_count": null,
   "metadata": {},
   "outputs": [],
   "source": []
  },
  {
   "cell_type": "code",
   "execution_count": null,
   "metadata": {},
   "outputs": [],
   "source": []
  },
  {
   "cell_type": "code",
   "execution_count": null,
   "metadata": {},
   "outputs": [],
   "source": []
  },
  {
   "cell_type": "markdown",
   "metadata": {},
   "source": [
    "# Model Analysis"
   ]
  },
  {
   "cell_type": "code",
   "execution_count": null,
   "metadata": {},
   "outputs": [],
   "source": []
  },
  {
   "cell_type": "code",
   "execution_count": null,
   "metadata": {},
   "outputs": [],
   "source": []
  },
  {
   "cell_type": "code",
   "execution_count": null,
   "metadata": {},
   "outputs": [],
   "source": []
  },
  {
   "cell_type": "markdown",
   "metadata": {},
   "source": [
    "# Model Deployment"
   ]
  },
  {
   "cell_type": "code",
   "execution_count": null,
   "metadata": {},
   "outputs": [],
   "source": []
  }
 ],
 "metadata": {
  "kernelspec": {
   "display_name": "Python 3",
   "language": "python",
   "name": "python3"
  },
  "language_info": {
   "codemirror_mode": {
    "name": "ipython",
    "version": 3
   },
   "file_extension": ".py",
   "mimetype": "text/x-python",
   "name": "python",
   "nbconvert_exporter": "python",
   "pygments_lexer": "ipython3",
   "version": "3.7.7"
  }
 },
 "nbformat": 4,
 "nbformat_minor": 4
}
