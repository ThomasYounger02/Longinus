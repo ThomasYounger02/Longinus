{
 "cells": [
  {
   "cell_type": "markdown",
   "metadata": {},
   "source": [
    "# Libraries"
   ]
  },
  {
   "cell_type": "code",
   "execution_count": 12,
   "metadata": {},
   "outputs": [],
   "source": [
    "import pandas as pd\n",
    "import numpy as np\n",
    "import matplotlib.pyplot as plt\n",
    "import seaborn as sns\n",
    "\n",
    "from sklearn.datasets import load_breast_cancer\n",
    "from sklearn.model_selection import train_test_split\n",
    "from sklearn.linear_model import LogisticRegression\n",
    "from sklearn.metrics import confusion_matrix, accuracy_score, classification_report\n",
    "from sklearn.metrics import roc_auc_score, roc_curve\n",
    "from sklearn.metrics import f1_score\n",
    "from sklearn.metrics import precision_score, recall_score\n",
    "from sklearn.metrics import cohen_kappa_score"
   ]
  },
  {
   "cell_type": "markdown",
   "metadata": {},
   "source": [
    "# Data"
   ]
  },
  {
   "cell_type": "code",
   "execution_count": 3,
   "metadata": {},
   "outputs": [],
   "source": [
    "# import some data to play with\n",
    "cancer = load_breast_cancer()"
   ]
  },
  {
   "cell_type": "markdown",
   "metadata": {},
   "source": [
    "# Preprocess"
   ]
  },
  {
   "cell_type": "code",
   "execution_count": 4,
   "metadata": {},
   "outputs": [],
   "source": [
    "X = cancer.data\n",
    "y = cancer.target\n",
    "\n",
    "X_train, X_test, y_train, y_test = train_test_split(X, y, test_size=0.2, random_state=0)"
   ]
  },
  {
   "cell_type": "markdown",
   "metadata": {},
   "source": [
    "# Model\n",
    "## Trainning"
   ]
  },
  {
   "cell_type": "code",
   "execution_count": 5,
   "metadata": {},
   "outputs": [
    {
     "name": "stderr",
     "output_type": "stream",
     "text": [
      "C:\\Users\\didi\\Anaconda3\\lib\\site-packages\\sklearn\\linear_model\\_logistic.py:939: ConvergenceWarning:\n",
      "\n",
      "lbfgs failed to converge (status=1):\n",
      "STOP: TOTAL NO. of ITERATIONS REACHED LIMIT.\n",
      "\n",
      "Increase the number of iterations (max_iter) or scale the data as shown in:\n",
      "    https://scikit-learn.org/stable/modules/preprocessing.html.\n",
      "Please also refer to the documentation for alternative solver options:\n",
      "    https://scikit-learn.org/stable/modules/linear_model.html#logistic-regression\n",
      "\n"
     ]
    }
   ],
   "source": [
    "logreg = LogisticRegression(C=1e5)\n",
    "# fit the model\n",
    "logreg.fit(X_train, y_train)\n",
    "# predict\n",
    "y_pred = logreg.predict(X_test)"
   ]
  },
  {
   "cell_type": "markdown",
   "metadata": {},
   "source": [
    "## Evaluation"
   ]
  },
  {
   "cell_type": "code",
   "execution_count": 10,
   "metadata": {},
   "outputs": [],
   "source": [
    "# the evaluatino function\n",
    "def classification_evaluation(y_test, predictions, display=True):\n",
    "    # result\n",
    "    cl_report = classification_report(y_test, predictions)\n",
    "    \n",
    "    accuracy = accuracy_score(y_test, predictions)\n",
    "    precision = precision_score(y_test, predictions)\n",
    "    recall = recall_score(y_test, predictions)\n",
    "    score_f1 = f1_score(y_test, predictions) \n",
    "    roc_auc = roc_auc_score(y_test, predictions)\n",
    "    kappa_metric = cohen_kappa_score(y_test, predictions)\n",
    "    \n",
    "    \n",
    "    # display\n",
    "    if display:\n",
    "        print(\"\\n Classification report : \\n\", cl_report)\n",
    "        print(\"Accuracy Score    : \", np.round(accuracy, 2))\n",
    "        print(\"Recall Score      : \", np.round(precision, 2))\n",
    "        print(\"Precision Score   : \", np.round(recall, 2))\n",
    "        print(\"f1 Score          : \", np.round(score_f1, 2))\n",
    "        print(\"kappa Score       : \", np.round(kappa_metric, 2), \"\\n\")\n",
    "        print(\"Area under curve  : \", np.round(roc_auc, 2))\n",
    "    \n",
    "    # store the result\n",
    "    result = []\n",
    "    result.append({\n",
    "        'accu': accuracy,\n",
    "        'precison': precision,\n",
    "        'recall': recall,\n",
    "        'f1': score_f1,\n",
    "        'auc': roc_auc,\n",
    "        'kappa': kappa_metric\n",
    "    })\n",
    "    df_result = pd.DataFrame(result, columns=['accu', 'precison', 'recall', 'f1', 'auc', 'kappa'])\n",
    "    return df_result"
   ]
  },
  {
   "cell_type": "code",
   "execution_count": 11,
   "metadata": {},
   "outputs": [
    {
     "name": "stdout",
     "output_type": "stream",
     "text": [
      "\n",
      " Classification report : \n",
      "               precision    recall  f1-score   support\n",
      "\n",
      "           0       0.94      0.96      0.95        47\n",
      "           1       0.97      0.96      0.96        67\n",
      "\n",
      "    accuracy                           0.96       114\n",
      "   macro avg       0.95      0.96      0.95       114\n",
      "weighted avg       0.96      0.96      0.96       114\n",
      "\n",
      "Accuracy Score    :  0.96\n",
      "Recall Score      :  0.97\n",
      "Precision Score   :  0.96\n",
      "f1 Score          :  0.96\n",
      "kappa Score       :  0.91 \n",
      "\n",
      "Area under curve  :  0.96\n"
     ]
    }
   ],
   "source": [
    "result = classification_evaluation(y_test, y_pred, display=True)"
   ]
  },
  {
   "cell_type": "markdown",
   "metadata": {},
   "source": [
    "##  Visualization"
   ]
  },
  {
   "cell_type": "code",
   "execution_count": 32,
   "metadata": {},
   "outputs": [
    {
     "data": {
      "image/png": "[encoded data removed]",
      "text/plain": [
       "<Figure size 576x396 with 2 Axes>"
      ]
     },
     "metadata": {},
     "output_type": "display_data"
    }
   ],
   "source": [
    "# plot confuse matrix\n",
    "def plot_confusion_matrix(y_true, y_pred):\n",
    "    \n",
    "    sns.set()\n",
    "    f, ax = plt.subplots()\n",
    "    cm = confusion_matrix(y_test, y_pred, labels=[0,1])\n",
    "    ax = sns.heatmap(cm, annot=True, annot_kws={'size':20, 'weight':'bold', 'color':'blue'})\n",
    "\n",
    "    ax.set_title('Confusion Matrix')\n",
    "    ax.set_xlabel('Predict')\n",
    "    ax.set_ylabel('True')\n",
    "\n",
    "plot_confusion_matrix(y_test, y_pred)"
   ]
  },
  {
   "cell_type": "code",
   "execution_count": null,
   "metadata": {},
   "outputs": [],
   "source": []
  }
 ],
 "metadata": {
  "kernelspec": {
   "display_name": "Python 3",
   "language": "python",
   "name": "python3"
  },
  "language_info": {
   "codemirror_mode": {
    "name": "ipython",
    "version": 3
   },
   "file_extension": ".py",
   "mimetype": "text/x-python",
   "name": "python",
   "nbconvert_exporter": "python",
   "pygments_lexer": "ipython3",
   "version": "3.7.5"
  },
  "toc": {
   "base_numbering": 1,
   "nav_menu": {},
   "number_sections": true,
   "sideBar": true,
   "skip_h1_title": false,
   "title_cell": "Table of Contents",
   "title_sidebar": "Contents",
   "toc_cell": false,
   "toc_position": {
    "height": "calc(100% - 180px)",
    "left": "10px",
    "top": "150px",
    "width": "273.188px"
   },
   "toc_section_display": true,
   "toc_window_display": true
  }
 },
 "nbformat": 4,
 "nbformat_minor": 2
}
